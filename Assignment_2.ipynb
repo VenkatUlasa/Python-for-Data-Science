{
  "nbformat": 4,
  "nbformat_minor": 0,
  "metadata": {
    "colab": {
      "provenance": []
    },
    "kernelspec": {
      "name": "python3",
      "display_name": "Python 3"
    },
    "language_info": {
      "name": "python"
    }
  },
  "cells": [
    {
      "cell_type": "markdown",
      "source": [
        "**Problem 1:- Take two integer numbers and return their product. If the product is greater than 1000, then return their sum if product is less than 1000 return product value only.**"
      ],
      "metadata": {
        "id": "2v4j60f4jm0w"
      }
    },
    {
      "cell_type": "code",
      "execution_count": 25,
      "metadata": {
        "colab": {
          "base_uri": "https://localhost:8080/"
        },
        "id": "Zk-WoncHjc-s",
        "outputId": "ac4046d4-5a17-4522-d8ca-ebd10407cf28"
      },
      "outputs": [
        {
          "output_type": "stream",
          "name": "stdout",
          "text": [
            "170\n"
          ]
        }
      ],
      "source": [
        "m = 115\n",
        "n = 55\n",
        "print((m+n) if (m*n) > 1000 else (m*n))"
      ]
    },
    {
      "cell_type": "markdown",
      "source": [
        "**Problem 2:- Given a range of the first 10 numbers, Iterate from the start number to the end number, and In each iteration print the sum of the current number and previous number.**\n",
        "\n",
        "Here, we need the sum of current and previous numbers as an output.to print required output i used for loop and if-else condition."
      ],
      "metadata": {
        "id": "jjZQzzHjkSfV"
      }
    },
    {
      "cell_type": "code",
      "source": [
        "n = 10\n",
        "print(f\"Printing current and previous number sum in a range({n})\")\n",
        "for i in range(n) :\n",
        "  if i == 0 :\n",
        "    print(f'Current Number {i} Previous Number  {i}  Sum:  {i}')\n",
        "  else :\n",
        "    s = i+(i-1)\n",
        "    print(f'Current Number {i} Previous Number  {i-1}  Sum:  {s}')"
      ],
      "metadata": {
        "colab": {
          "base_uri": "https://localhost:8080/"
        },
        "id": "MSL1UVQmkesd",
        "outputId": "49868172-a848-4c7e-bb52-f1e3441e1384"
      },
      "execution_count": 7,
      "outputs": [
        {
          "output_type": "stream",
          "name": "stdout",
          "text": [
            "Printing current and previous number sum in a range(10)\n",
            "Current Number 0 Previous Number  0  Sum:  0\n",
            "Current Number 1 Previous Number  0  Sum:  1\n",
            "Current Number 2 Previous Number  1  Sum:  3\n",
            "Current Number 3 Previous Number  2  Sum:  5\n",
            "Current Number 4 Previous Number  3  Sum:  7\n",
            "Current Number 5 Previous Number  4  Sum:  9\n",
            "Current Number 6 Previous Number  5  Sum:  11\n",
            "Current Number 7 Previous Number  6  Sum:  13\n",
            "Current Number 8 Previous Number  7  Sum:  15\n",
            "Current Number 9 Previous Number  8  Sum:  17\n"
          ]
        }
      ]
    },
    {
      "cell_type": "markdown",
      "source": [
        "**Problem 3:- Given a string and an integer number n, remove characters from a string starting from zero up to n and return a new string**\n",
        "\n",
        "Example : (\"pynative\", 4) so output must be tive.\n",
        "\n",
        "Note: n must be less than the length of the string.\n",
        "\n",
        "Here, i used string slicing method to print required output according to given problem."
      ],
      "metadata": {
        "id": "Sp4ilywzl35l"
      }
    },
    {
      "cell_type": "code",
      "source": [
        "s = \"pynative\"\n",
        "n = 2\n",
        "n_s = s[n:]\n",
        "print(n_s)"
      ],
      "metadata": {
        "colab": {
          "base_uri": "https://localhost:8080/"
        },
        "id": "BxtreiFUl3AT",
        "outputId": "d2f8f3a8-3a23-4f5b-bfa4-8bde8f65253e"
      },
      "execution_count": 10,
      "outputs": [
        {
          "output_type": "stream",
          "name": "stdout",
          "text": [
            "native\n"
          ]
        }
      ]
    },
    {
      "cell_type": "markdown",
      "source": [
        "**Problem 4:- Given a list of numbers, return True if first and last number of a list is same**\n",
        "\n",
        "  Here, i used if-else condition to print required output. as a condition i used l[0] == l[-1]. Because, we know l[-1] returns the last element of the given list."
      ],
      "metadata": {
        "id": "WhkN8SmGmezp"
      }
    },
    {
      "cell_type": "code",
      "source": [
        "l = [10 , 20 , 30 , 40, 100]\n",
        "print(\"result is true\" if l[0] == l[-1] else \"result is false\")"
      ],
      "metadata": {
        "colab": {
          "base_uri": "https://localhost:8080/"
        },
        "id": "VgAfXlH_mnbE",
        "outputId": "22f1e99c-0d17-40e0-f512-e9fa8327fc81"
      },
      "execution_count": 12,
      "outputs": [
        {
          "output_type": "stream",
          "name": "stdout",
          "text": [
            "result is false\n"
          ]
        }
      ]
    },
    {
      "cell_type": "markdown",
      "source": [
        "**Problem 5:- Given a two Python list. Iterate both lists simultaneously such that list1 should display item in original order and list2 in reverse order.**\n",
        "\n",
        "  to solve this Problem i used zip() method to iterate both the lists at a time.and i reversed \"list2\" according to output requirement."
      ],
      "metadata": {
        "id": "eRBejHIinm3i"
      }
    },
    {
      "cell_type": "code",
      "source": [
        "list1 = [10, 20, 30, 40]\n",
        "list2 = [100, 200, 300, 400]\n",
        "for i,j in zip(list1,list2[::-1]) :\n",
        "  print(i,j)"
      ],
      "metadata": {
        "colab": {
          "base_uri": "https://localhost:8080/"
        },
        "id": "GJmPHZzEnfLx",
        "outputId": "dff2721d-2bf9-4fef-fa8f-18defc7d9eb0"
      },
      "execution_count": 22,
      "outputs": [
        {
          "output_type": "stream",
          "name": "stdout",
          "text": [
            "10 400\n",
            "20 300\n",
            "30 200\n",
            "40 100\n"
          ]
        }
      ]
    },
    {
      "cell_type": "markdown",
      "source": [
        "**Problem 6:- Remove empty strings from the list of strings.**\n",
        "\n",
        "  to solve this problem i used lambda and filter functions. in filter() i used a simple condition to remove elements having it's length lesser than 1."
      ],
      "metadata": {
        "id": "LptktHk_ofDc"
      }
    },
    {
      "cell_type": "code",
      "source": [
        "list1 = [\"Mike\", \"\", \"Emma\", \"Kelly\", \"\", \"Brad\"]\n",
        "print(list(filter(lambda x : len(x) > 0 , list1)))"
      ],
      "metadata": {
        "colab": {
          "base_uri": "https://localhost:8080/"
        },
        "id": "QIqHzLZ2oeRq",
        "outputId": "79e73aaa-cf77-4c8d-fe28-083037b28e79"
      },
      "execution_count": 20,
      "outputs": [
        {
          "output_type": "stream",
          "name": "stdout",
          "text": [
            "['Mike', 'Emma', 'Kelly', 'Brad']\n"
          ]
        }
      ]
    }
  ]
}